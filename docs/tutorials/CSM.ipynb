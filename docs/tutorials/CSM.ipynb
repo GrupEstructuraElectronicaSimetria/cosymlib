{
 "cells": [
  {
   "cell_type": "markdown",
   "metadata": {
    "id": "3syNqZ3-JGlY"
   },
   "source": [
    "# Using *Cosymlib* to analyze the symmetry properties of molecules\n",
    "\n",
    "### Pere Alemany <br> *Institut de Química Teòrica i Computacional de la Universitat de Barcelona (IQTCUB)*\n",
    "\n",
    "                                                                                June 2023\n",
    "                                                           \n",
    "This series of tutorials is meant to introduce you to using *Cosymlib*, a python library for calculating continuous shape and symmetry measures (CShMs and CSMs). In each notebook we will show different ways of using the functions in the library. "
   ]
  },
  {
   "cell_type": "markdown",
   "metadata": {},
   "source": [
    "If you run the notebook in Google Colab, you must first install the *Cosymlib*: "
   ]
  },
  {
   "cell_type": "code",
   "execution_count": null,
   "metadata": {
    "id": "kQIRVcm1IyDx",
    "scrolled": true
   },
   "outputs": [],
   "source": [
    "!pip install cosymlib"
   ]
  },
  {
   "cell_type": "markdown",
   "metadata": {
    "id": "FzfkSXmv4FGJ"
   },
   "source": [
    "and download first a few files containing structural data that we have prepared in advance for you: "
   ]
  },
  {
   "cell_type": "code",
   "execution_count": null,
   "metadata": {},
   "outputs": [],
   "source": [
    "!wget  https://raw.githubusercontent.com/GrupEstructuraElectronicaSimetria/cosymlib/pere_tutorial/docs/tutorials/h2o2_path.xyz\n",
    "!wget  https://raw.githubusercontent.com/GrupEstructuraElectronicaSimetria/cosymlib/pere_tutorial/docs/tutorials/equilateral_triang.xyz\n",
    "!wget  https://raw.githubusercontent.com/GrupEstructuraElectronicaSimetria/cosymlib/pere_tutorial/docs/tutorials/isosceles_triang.xyz    "
   ]
  },
  {
   "cell_type": "markdown",
   "metadata": {
    "id": "vs48BtdcVvNP"
   },
   "source": [
    "# Using Gsym to compute continuous symmetry measures\n",
    "\n",
    "\n",
    "`gsym` is the script used to calculate continuous symmetry measures (CSMs) with respect to some simple point-symmetry groups for geometrical objects described as a set of vertices. In the previous tutorial we used `gsym`with the `-pg` tag to determine the point group for a given structure. Here we will use it to analyze the symmetry content for structures that don't have a perfect symmetry. \n",
    "\n",
    "Let's start with a simple case, an equilateral triangle with full D3h symmetry (we consider the triangle in 3D space, so that the reflection across the plane is an allowed symmetry). Take a look to the `equilateral_triang.xyz` file:"
   ]
  },
  {
   "cell_type": "code",
   "execution_count": null,
   "metadata": {},
   "outputs": [],
   "source": [
    "!cat equilateral_triang.xyz"
   ]
  },
  {
   "cell_type": "markdown",
   "metadata": {},
   "source": [
    "Although it's difficult to see from the coordinates, the structure is an equliateral triangle and we can check it by calling `gsym`with the `-pg`tag: "
   ]
  },
  {
   "cell_type": "code",
   "execution_count": null,
   "metadata": {},
   "outputs": [],
   "source": [
    "!gsym equilateral_triang.xyz -pg"
   ]
  },
  {
   "cell_type": "markdown",
   "metadata": {},
   "source": [
    "We can now compute continuous symmetry measures for this structure. For this we will use `gsym`with the `-m LAB`tag where LAB is a label indicating for which point grup we want to compute the CSM. At the moment we have CSMs only for low symmetry groups. To know which labels we can use, we just call the `gsym`script with the `-l`tag: "
   ]
  },
  {
   "cell_type": "code",
   "execution_count": null,
   "metadata": {},
   "outputs": [],
   "source": [
    "!gsym equilateral_triang.xyz -l "
   ]
  },
  {
   "cell_type": "markdown",
   "metadata": {},
   "source": [
    "Since C3 is a subgroup of D3h, our equilateral triangle should have a S(C3) = 0 measure:"
   ]
  },
  {
   "cell_type": "code",
   "execution_count": null,
   "metadata": {},
   "outputs": [],
   "source": [
    "!gsym equilateral_triang.xyz -m C3"
   ]
  },
  {
   "cell_type": "markdown",
   "metadata": {},
   "source": [
    "The `gsym -m C3` command returns effectively a value of 0 for S(C3) and gives us also the orientation of the C3 axis, which in this case is perpendicular to the plane, in the direction of the z axis.\n",
    "\n",
    "Since C2 is also a subgroup of D3h, our structure should also have a C2 axis (actually there are three C2 axes). To check this we just run `gsym` again asking now for the C2 symmetry measure: "
   ]
  },
  {
   "cell_type": "code",
   "execution_count": null,
   "metadata": {},
   "outputs": [],
   "source": [
    "!gsym equilateral_triang.xyz -m C2"
   ]
  },
  {
   "cell_type": "markdown",
   "metadata": {},
   "source": [
    "Note that the orientation of the C2 axis is now along the y axis. Since `gsym`is just looking for the presence of a C2 axis, once it finds one, the program stops searching and we get only the axis that it found in first place. \n",
    "Let's do now something more interesting. Does the equilateral triangle have a C4 axis? Obviously not, but we may calculate the CSM measure and it will tell us how far we are from having a C4 axis and which is the 'best' C4 axis for our triangle:"
   ]
  },
  {
   "cell_type": "code",
   "execution_count": null,
   "metadata": {},
   "outputs": [],
   "source": [
    "!gsym equilateral_triang.xyz -m C4"
   ]
  },
  {
   "cell_type": "markdown",
   "metadata": {},
   "source": [
    "The answer is S(C4) = 50.0 which is telling us that, as expected, we are actually quite far from having C4 symmetry.\n",
    "Let's look now at what happens when we consider isosceles triangles obtaining by displacing one of the vertices. Take a look at the `isosceles_triang.xyz`file  "
   ]
  },
  {
   "cell_type": "code",
   "execution_count": null,
   "metadata": {},
   "outputs": [],
   "source": [
    "!cat isosceles_triang.xyz"
   ]
  },
  {
   "cell_type": "markdown",
   "metadata": {},
   "source": [
    "We have 5 triangles obtained by displacing the (0. 1. 0.) vertex of our equilateral triangle along the y axis. We should fing that the C3 symmetry is lost for those triangles with the displaced vertex:"
   ]
  },
  {
   "cell_type": "code",
   "execution_count": null,
   "metadata": {},
   "outputs": [],
   "source": [
    "!gsym isosceles_triang.xyz -m C3"
   ]
  },
  {
   "cell_type": "markdown",
   "metadata": {},
   "source": [
    "By looking at the S(C3) values we find a non trivial result: displacing the vertex to the interior of the triangle yields a larger loss of C3 symmetry than when we move it outwards.\n",
    "\n",
    "We can also check that all triangles are isosceles, that is, that we keep a C2 rotation axis along the y-axis:"
   ]
  },
  {
   "cell_type": "code",
   "execution_count": null,
   "metadata": {},
   "outputs": [],
   "source": [
    "!gsym isosceles_triang.xyz -m C2"
   ]
  },
  {
   "cell_type": "markdown",
   "metadata": {},
   "source": [
    "Let's look at a more chemically oriented problem. Let us consider the H2O2 molecule in our previous tutorial, with structures changing the H-O-O-H dihedral angle between 0º and 180º. All structures except the first and the last are chiral, that is, they dont have a mirror plane. We can use the S(Cs) measure as a chirality measure, achiral structures will have S(Cs) = 0 while the larger the value of S(Cs), the more chiral the structure."
   ]
  },
  {
   "cell_type": "code",
   "execution_count": null,
   "metadata": {},
   "outputs": [],
   "source": [
    "!gsym h2o2_path.xyz -m Cs"
   ]
  },
  {
   "cell_type": "markdown",
   "metadata": {},
   "source": [
    "Note that we get, again, a non trivial result. Simple reasoning would tell us that the most chiral structure, that is the structure that is more far away from having a mirror plane, should correspond to the case with 90º. We see however that this is not the case, and we find the most chiral structure for a somewhat larger angle, arouns 100º.\n",
    "\n",
    "Strictly speaking, the continuous chirality measure CCM corresponds to the smallest CSM with respect to all S1, S2, S4, S6 ... groups, although in most cases the minumum CSM is found for S1 = Cs. In order to perform all CSM measures for different Sn groups in a single run, you can use the `cchir` command to compute CCMs. If you use just the `-m`tag you will get only the S1 = Cs measure: "
   ]
  },
  {
   "cell_type": "code",
   "execution_count": null,
   "metadata": {},
   "outputs": [],
   "source": [
    "!cchir h2o2_path.xyz -m "
   ]
  },
  {
   "cell_type": "markdown",
   "metadata": {},
   "source": [
    "If you include the `-order 2n` tag in the call you will calculate all S(S2n) measures with at the same time:"
   ]
  },
  {
   "cell_type": "code",
   "execution_count": null,
   "metadata": {},
   "outputs": [],
   "source": [
    "!cchir h2o2_path.xyz -m -order 6"
   ]
  },
  {
   "cell_type": "markdown",
   "metadata": {},
   "source": [
    "In this case you will see that the CCM really corresponds to the S(Cs) measure since it has the smallest value for all cases. Normally it is enough to run up to order 6 to be sure not to miss the lowest S(S2n) measure and get the correct value for the CC.  "
   ]
  },
  {
   "cell_type": "code",
   "execution_count": null,
   "metadata": {},
   "outputs": [],
   "source": []
  }
 ],
 "metadata": {
  "colab": {
   "collapsed_sections": [
    "3syNqZ3-JGlY",
    "-P0umi16VnRM",
    "6WXm8eDiV0T5",
    "JSRRgzeFuk1e",
    "vs48BtdcVvNP",
    "mrvwxmL7LvEH",
    "tcMjTCMHpDre",
    "WCmqPOW73Lry"
   ],
   "provenance": []
  },
  "kernelspec": {
   "display_name": "Python 3 (ipykernel)",
   "language": "python",
   "name": "python3"
  },
  "language_info": {
   "codemirror_mode": {
    "name": "ipython",
    "version": 3
   },
   "file_extension": ".py",
   "mimetype": "text/x-python",
   "name": "python",
   "nbconvert_exporter": "python",
   "pygments_lexer": "ipython3",
   "version": "3.8.0"
  }
 },
 "nbformat": 4,
 "nbformat_minor": 1
}
