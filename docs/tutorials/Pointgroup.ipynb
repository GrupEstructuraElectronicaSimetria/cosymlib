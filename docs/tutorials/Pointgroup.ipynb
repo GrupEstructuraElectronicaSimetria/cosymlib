{
 "cells": [
  {
   "cell_type": "markdown",
   "metadata": {
    "id": "3syNqZ3-JGlY"
   },
   "source": [
    "# Using *Cosymlib* to analyze the symmetry properties of molecules\n",
    "\n",
    "### Pere Alemany <br> *Institut de Química Teòrica i Computacional de la Universitat de Barcelona (IQTCUB)*\n",
    "\n",
    "                                                                                June 2023\n",
    "                                                           \n",
    "This series of tutorials is meant to introduce you to using *Cosymlib*, a python library for calculating continuous shape and symmetry measures (CShMs and CSMs). In each notebook we will show different ways of using the functions in the library. \n",
    "\n",
    "*Cosymlib* can be used either in a simple command-line mode or via python scripting. The main focus in these tutorial is to learn how to perform the basic tasks in *Cosymlib* using it in the command-line mode. At the end we will give some examples on how to use it in an advanced mode by including calls to *Cosymlib's* functions in your own Python scripts. All important tasks can, however, be done in the command-line mode and this is the recommended option for users that just need to compute a CShM or CMS occasionally. In this case, all you need is a file with your structure and a call one of the basic commands of the Cosymlib, without any need to know anything about programming in Python. "
   ]
  },
  {
   "cell_type": "markdown",
   "metadata": {},
   "source": [
    "To start using *Cosymlib* you just need to install it as you would do with any other Python library. This step in not necesary if *Cosymlib* is already installed in your computer. If you run the notebook in Google Colab, you can install the *Cosymlib* using the command in the cell below: "
   ]
  },
  {
   "cell_type": "code",
   "execution_count": null,
   "metadata": {
    "id": "kQIRVcm1IyDx",
    "scrolled": true
   },
   "outputs": [],
   "source": [
    "!pip install cosymlib"
   ]
  },
  {
   "cell_type": "markdown",
   "metadata": {
    "id": "m12Yt_E_JpdO"
   },
   "source": [
    "*Cosymlib* allows for both continuous shape (CShMs)and symmetry measures(CSMs) for molecules described as a set of points in Euclidean 3D space. Besides this, you can also analyze the symmetry of the electronic structure of a given molecule by computing CSMs for its electronic density, wavefunction or individual molecular orbitals. All these tasks can be done by means of simple calls to the following commands:\n",
    "\n",
    "*   **gsym**: Calculation of symmetry measures for a set of geometries\n",
    "*   **cchir**: Calculation of chirality measures for a set of geometries\n",
    "*   **shape**: Calculation of shape measures for a set of geometries\n",
    "*   **shape_map**: Use two CShMs to compute a shape map for a set of geometries\n",
    "*   **esym**: Calculation of symmetry measures for the electron density of a molecule\n",
    "*   **mosym**: Pseudo-symmetry analysis for the molecular orbitals of a molecule\n",
    "\n",
    "Besides this, there is also a general script that allows all types of calculations above:\n",
    "*   **cosym**: Allows for all of the above measures\n"
   ]
  },
  {
   "cell_type": "markdown",
   "metadata": {
    "id": "-P0umi16VnRM"
   },
   "source": [
    "## How to execute a command ##\n",
    "\n",
    "In order to run any of these commands you will need to supply *Cosymlib* with at least the geometry of a molecule giving the cartesian coordinates and the atomic symbols (or arbitrary labels) for each atom in the molecule. When you use the *Cosymlib* in command-line mode you just need to call the desired command, for instance, `gsym` and in the same line indicate the file containing the geometry or the electronic structure of your molecule or molecules. Eventually you may need to specify additional options that modify the behavior of the command. \n",
    "\n",
    "A general command line will, thus, look like:\n",
    "\n",
    "`gsym   filename.xyz -m  C2 `\n",
    "\n",
    "where `gsym` is the name of the command, `filename.xyz` the name of the file containing the structure we want to analyze, and `-m C2` is an optional argument indicating the task we want to perform.\n",
    "Along these tutorials we will see examples of the main options of the scripts included in the *Cosymlib*. \n",
    "\n",
    "\n",
    "\n",
    "## Supported Files\n",
    "\n",
    "*Cosymlib* is able to generate a Molecule object (a data structure containing all the necesary information on a molecule) by reading any of the following files that include the geometry or the electronic structure of molecular structures.\n",
    "\n",
    "Geometry files:\n",
    "\n",
    "* **.xyz**: With either Atomic Numbers or Atomic Symbols\n",
    "* **.pdb**: Includes connectivity \n",
    "* **.cor**: Conquest formatted files\n",
    "\n",
    "Geometry files can contain a single structure or multiple structures, the only limitation is that **all** these structures should contain the **same number of atoms** \n",
    "\n",
    "Geometry + Electronic Structure files: \n",
    "\n",
    "*  **.fchk**\n",
    "*  **.molden**\n",
    "\n",
    "*Note:* If the electronic stucture is not provided, *Cosymlib* can autogenerate one using an Extended Hückel calculation if needed. *Cosymlib* is also able to generate a .fchk file for this calculation so that you can afterwards visualize your molecular orbitals using external programs such as *Avogadro*. "
   ]
  },
  {
   "cell_type": "markdown",
   "metadata": {
    "id": "FzfkSXmv4FGJ"
   },
   "source": [
    "In order to proceed with the tutorial you will need to download first a few files containing molecular data that we have prepared in advance for you. If the *Cosymlib* is installed in your computer you will just need to have these files in the folder from where you run your command. "
   ]
  },
  {
   "cell_type": "code",
   "execution_count": null,
   "metadata": {},
   "outputs": [],
   "source": [
    "!wget https://raw.githubusercontent.com/GrupEstructuraElectronicaSimetria/cosymlib/pere_tutorial/docs/tutorials/ethane.xyz\n",
    "!wget https://raw.githubusercontent.com/GrupEstructuraElectronicaSimetria/cosymlib/pere_tutorial/docs/tutorials/tetbrneopentane.xyz\n",
    "!wget https://raw.githubusercontent.com/GrupEstructuraElectronicaSimetria/cosymlib/pere_tutorial/docs/tutorials/twistane.xyz\n",
    "!wget https://raw.githubusercontent.com/GrupEstructuraElectronicaSimetria/cosymlib/pere_tutorial/docs/tutorials/vanadate.xyz\n",
    "!wget https://raw.githubusercontent.com/GrupEstructuraElectronicaSimetria/cosymlib/pere_tutorial/docs/tutorials/trisen_co.xyz\n",
    "!wget https://raw.githubusercontent.com/GrupEstructuraElectronicaSimetria/cosymlib/pere_tutorial/docs/tutorials/snub_dode.xyz\n",
    "!wget https://raw.githubusercontent.com/GrupEstructuraElectronicaSimetria/cosymlib/pere_tutorial/docs/tutorials/co_compl.xyz\n",
    "!wget https://raw.githubusercontent.com/GrupEstructuraElectronicaSimetria/cosymlib/pere_tutorial/docs/tutorials/sf6.xyz\n",
    "!wget https://raw.githubusercontent.com/GrupEstructuraElectronicaSimetria/cosymlib/pere_tutorial/docs/tutorials/h2o2.xyz\n",
    "!wget https://raw.githubusercontent.com/GrupEstructuraElectronicaSimetria/cosymlib/pere_tutorial/docs/tutorials/ferrocene_ec.xyz\n",
    "!wget https://raw.githubusercontent.com/GrupEstructuraElectronicaSimetria/cosymlib/pere_tutorial/docs/tutorials/c5_cp.xyz\n",
    "!wget https://raw.githubusercontent.com/GrupEstructuraElectronicaSimetria/cosymlib/pere_tutorial/docs/tutorials/cyclohex_chair.xyz\n",
    "!wget https://raw.githubusercontent.com/GrupEstructuraElectronicaSimetria/cosymlib/pere_tutorial/docs/tutorials/diborane.xyz\n",
    "!wget https://raw.githubusercontent.com/GrupEstructuraElectronicaSimetria/cosymlib/pere_tutorial/docs/tutorials/difluoethene.xyz\n",
    "!wget https://raw.githubusercontent.com/GrupEstructuraElectronicaSimetria/cosymlib/pere_tutorial/docs/tutorials/ferrocene_st.xyz\n",
    "!wget https://raw.githubusercontent.com/GrupEstructuraElectronicaSimetria/cosymlib/pere_tutorial/docs/tutorials/ge9.xyz\n",
    "!wget https://raw.githubusercontent.com/GrupEstructuraElectronicaSimetria/cosymlib/pere_tutorial/docs/tutorials/methane.xyz\n",
    "!wget https://raw.githubusercontent.com/GrupEstructuraElectronicaSimetria/cosymlib/pere_tutorial/docs/tutorials/dodecahedrane.xyz\n",
    "!wget https://raw.githubusercontent.com/GrupEstructuraElectronicaSimetria/cosymlib/pere_tutorial/docs/tutorials/dodecaborate.xyz\n",
    "!wget https://raw.githubusercontent.com/GrupEstructuraElectronicaSimetria/cosymlib/pere_tutorial/docs/tutorials/cyclobutane.xyz\n",
    "!wget https://raw.githubusercontent.com/GrupEstructuraElectronicaSimetria/cosymlib/pere_tutorial/docs/tutorials/crown_18_6.xyz\n",
    "!wget https://raw.githubusercontent.com/GrupEstructuraElectronicaSimetria/cosymlib/pere_tutorial/docs/tutorials/c70.xyz\n",
    "!wget https://raw.githubusercontent.com/GrupEstructuraElectronicaSimetria/cosymlib/pere_tutorial/docs/tutorials/c60.xyz\n",
    "!wget https://raw.githubusercontent.com/GrupEstructuraElectronicaSimetria/cosymlib/pere_tutorial/docs/tutorials/co_c2_compl.xyz\n",
    "!wget https://raw.githubusercontent.com/GrupEstructuraElectronicaSimetria/cosymlib/pere_tutorial/docs/tutorials/benzenetriol.xyz\n",
    "!wget https://raw.githubusercontent.com/GrupEstructuraElectronicaSimetria/cosymlib/pere_tutorial/docs/tutorials/ammonia.xyz\n",
    "!wget https://raw.githubusercontent.com/GrupEstructuraElectronicaSimetria/cosymlib/pere_tutorial/docs/tutorials/allene.xyz\n",
    "!wget https://raw.githubusercontent.com/GrupEstructuraElectronicaSimetria/cosymlib/pere_tutorial/docs/tutorials/adamantane.xyz\n",
    "!wget https://raw.githubusercontent.com/GrupEstructuraElectronicaSimetria/cosymlib/pere_tutorial/docs/tutorials/h2o.xyz\n",
    "!wget https://raw.githubusercontent.com/GrupEstructuraElectronicaSimetria/cosymlib/pere_tutorial/docs/tutorials/square.xyz\n",
    "!wget https://raw.githubusercontent.com/GrupEstructuraElectronicaSimetria/cosymlib/pere_tutorial/docs/tutorials/h2o2_path.xyz\n"
   ]
  },
  {
   "cell_type": "markdown",
   "metadata": {
    "id": "vs48BtdcVvNP"
   },
   "source": [
    "# Using Gsym to determine the point group for a molecule \n",
    "\n",
    "\n",
    "`gsym` is the script used to calculate continuous symmetry measures (CSMs) with respect to some simple point-symmetry groups for geometrical objects described as a set of vertices. Before computing actual CMSs, `gsym` can simply be employed to determine the point symmetry group for a molecule. For this purpose we can call `gsym` with the `-pg` option.\n",
    "\n",
    "Before starting, let's take a look to the `h2o.xyz` file using the linux `cat` command:"
   ]
  },
  {
   "cell_type": "code",
   "execution_count": null,
   "metadata": {},
   "outputs": [],
   "source": [
    "!cat h2o.xyz"
   ]
  },
  {
   "cell_type": "markdown",
   "metadata": {},
   "source": [
    "Just by looking at the coordinates it is difficult to guess the symmetry of the molecule since its is in an arbitrary position and orientation. This is, however, not important for the `gsym` script and it will find the pointgroup regardless of the position/orientation for which  we give the coordinates of the molecule:"
   ]
  },
  {
   "cell_type": "code",
   "execution_count": null,
   "metadata": {},
   "outputs": [],
   "source": [
    "!gsym h2o.xyz -pg"
   ]
  },
  {
   "cell_type": "markdown",
   "metadata": {},
   "source": [
    "We have prepared a series of .xyz files with different molecules. If wou want to find their point group, just copy the command in the cell above into the next cell, change the name of the .xyz file and execute the cell."
   ]
  },
  {
   "cell_type": "code",
   "execution_count": null,
   "metadata": {},
   "outputs": [],
   "source": []
  },
  {
   "cell_type": "markdown",
   "metadata": {},
   "source": [
    "You can use the `gsym` script to find the point group for a series of molecules contained in the same `.xyz` file. The only restriction is that all structures should have the same number of atoms. The `h2o2_path.xyz`file contains a series of structures for the H-O-O-H molecule in which we have changed the dihedral angle between 0º and 180º in steps of 10º. If you run the script you will see that the two planar configurations have a different point group, while all intermediate structures have the same symmetry."
   ]
  },
  {
   "cell_type": "code",
   "execution_count": null,
   "metadata": {},
   "outputs": [],
   "source": [
    "!gsym h2o2_path.xyz -pg "
   ]
  },
  {
   "cell_type": "markdown",
   "metadata": {},
   "source": [
    "Remember that the determination of the pointgroup relies on a numerical threshold that is used to decide if the original structure and its image after applying the transformation do coincide or not. \n",
    "The default value for this threshhold is 0.01, but it can be modified with the '--pg_thresh eps' tag, where eps is a real number. The smaller eps, the stricter is the coincidence needed to detect the presence of a symmetry operation. \n",
    "We have included two structures for a square of hydrogen atoms in the 'square.xyz' file. In the first one we have a perfect square, while in the second one we have included a small deviation of the atoms out of the molecular plane. Take a look at the two structures using the 'cat' command."
   ]
  },
  {
   "cell_type": "code",
   "execution_count": null,
   "metadata": {},
   "outputs": [],
   "source": [
    "!cat square.xyz"
   ]
  },
  {
   "cell_type": "markdown",
   "metadata": {},
   "source": [
    "If we run now the `gsym` script to determine the point group of the two structures it will correctly detect that the second structure does not have perfect square symmetry: "
   ]
  },
  {
   "cell_type": "code",
   "execution_count": null,
   "metadata": {},
   "outputs": [],
   "source": [
    "!gsym square.xyz -pg "
   ]
  },
  {
   "cell_type": "markdown",
   "metadata": {},
   "source": [
    "We can, however, relax the threshold to allow for small deviations of the symmetry increasing it to 0.02 and in this case, `gsym` will tell us that both structures have square symmetry. "
   ]
  },
  {
   "cell_type": "code",
   "execution_count": null,
   "metadata": {},
   "outputs": [],
   "source": [
    "!gsym square.xyz -pg --pg_thresh 0.02"
   ]
  },
  {
   "cell_type": "markdown",
   "metadata": {},
   "source": [
    "This example shows that you must be careful when using `gsym`, since the result does not guarantee that structure has exactly the detected symmetry, it just tells you that within numerical error, the structure has the detected symmetry. If you are not sure, you can try to run the program with smaller threshold values. The default 0.01 threshold is a good compromise for structural chemistry since you must be aware that the atomic positions are also subject to some experimental error, so that it makes no sense to run the program with too strict thresholds.  "
   ]
  },
  {
   "cell_type": "code",
   "execution_count": null,
   "metadata": {},
   "outputs": [],
   "source": []
  }
 ],
 "metadata": {
  "colab": {
   "collapsed_sections": [
    "3syNqZ3-JGlY",
    "-P0umi16VnRM",
    "6WXm8eDiV0T5",
    "JSRRgzeFuk1e",
    "vs48BtdcVvNP",
    "mrvwxmL7LvEH",
    "tcMjTCMHpDre",
    "WCmqPOW73Lry"
   ],
   "provenance": []
  },
  "kernelspec": {
   "display_name": "Python 3 (ipykernel)",
   "language": "python",
   "name": "python3"
  },
  "language_info": {
   "codemirror_mode": {
    "name": "ipython",
    "version": 3
   },
   "file_extension": ".py",
   "mimetype": "text/x-python",
   "name": "python",
   "nbconvert_exporter": "python",
   "pygments_lexer": "ipython3",
   "version": "3.8.0"
  }
 },
 "nbformat": 4,
 "nbformat_minor": 1
}
